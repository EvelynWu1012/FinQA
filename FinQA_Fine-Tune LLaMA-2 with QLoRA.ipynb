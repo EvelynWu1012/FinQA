{
 "cells": [
  {
   "cell_type": "markdown",
   "id": "a6977dda-548b-4d66-b0a4-2fed7a0951d5",
   "metadata": {},
   "source": [
    "# 1. Load and Prepare the Dataset\n"
   ]
  },
  {
   "cell_type": "code",
   "execution_count": 7,
   "id": "701b568d-8641-469f-bb37-4607aa634d95",
   "metadata": {},
   "outputs": [
    {
     "name": "stdout",
     "output_type": "stream",
     "text": [
      "Requirement already satisfied: pandas in c:\\users\\eyyal\\miniconda3\\miniconda\\lib\\site-packages (2.2.3)\n",
      "Requirement already satisfied: requests in c:\\users\\eyyal\\miniconda3\\miniconda\\lib\\site-packages (2.32.3)\n",
      "Requirement already satisfied: numpy>=1.26.0 in c:\\users\\eyyal\\miniconda3\\miniconda\\lib\\site-packages (from pandas) (2.1.2)\n",
      "Requirement already satisfied: python-dateutil>=2.8.2 in c:\\users\\eyyal\\miniconda3\\miniconda\\lib\\site-packages (from pandas) (2.9.0.post0)\n",
      "Requirement already satisfied: pytz>=2020.1 in c:\\users\\eyyal\\miniconda3\\miniconda\\lib\\site-packages (from pandas) (2025.2)\n",
      "Requirement already satisfied: tzdata>=2022.7 in c:\\users\\eyyal\\miniconda3\\miniconda\\lib\\site-packages (from pandas) (2025.2)\n",
      "Requirement already satisfied: charset-normalizer<4,>=2 in c:\\users\\eyyal\\miniconda3\\miniconda\\lib\\site-packages (from requests) (3.3.2)\n",
      "Requirement already satisfied: idna<4,>=2.5 in c:\\users\\eyyal\\miniconda3\\miniconda\\lib\\site-packages (from requests) (3.7)\n",
      "Requirement already satisfied: urllib3<3,>=1.21.1 in c:\\users\\eyyal\\miniconda3\\miniconda\\lib\\site-packages (from requests) (2.3.0)\n",
      "Requirement already satisfied: certifi>=2017.4.17 in c:\\users\\eyyal\\miniconda3\\miniconda\\lib\\site-packages (from requests) (2025.1.31)\n",
      "Requirement already satisfied: six>=1.5 in c:\\users\\eyyal\\miniconda3\\miniconda\\lib\\site-packages (from python-dateutil>=2.8.2->pandas) (1.17.0)\n"
     ]
    }
   ],
   "source": [
    "!pip install pandas requests"
   ]
  },
  {
   "cell_type": "code",
   "execution_count": 1,
   "id": "2e5e774c-96db-4947-b9ff-b5e24c64e685",
   "metadata": {},
   "outputs": [],
   "source": [
    "import pandas as pd"
   ]
  },
  {
   "cell_type": "code",
   "execution_count": 5,
   "id": "81c3048f-c435-478b-bcdf-ff701f8d67f7",
   "metadata": {},
   "outputs": [
    {
     "name": "stdout",
     "output_type": "stream",
     "text": [
      "Loaded 3037 examples.\n"
     ]
    },
    {
     "data": {
      "text/html": [
       "<div>\n",
       "<style scoped>\n",
       "    .dataframe tbody tr th:only-of-type {\n",
       "        vertical-align: middle;\n",
       "    }\n",
       "\n",
       "    .dataframe tbody tr th {\n",
       "        vertical-align: top;\n",
       "    }\n",
       "\n",
       "    .dataframe thead th {\n",
       "        text-align: right;\n",
       "    }\n",
       "</style>\n",
       "<table border=\"1\" class=\"dataframe\">\n",
       "  <thead>\n",
       "    <tr style=\"text-align: right;\">\n",
       "      <th></th>\n",
       "      <th>input</th>\n",
       "      <th>output</th>\n",
       "    </tr>\n",
       "  </thead>\n",
       "  <tbody>\n",
       "    <tr>\n",
       "      <th>0</th>\n",
       "      <td>Table:\\n2008\\tyear ended june 30 2009 2008\\tye...</td>\n",
       "      <td>Program: subtract(206588, 181001), divide(#0, ...</td>\n",
       "    </tr>\n",
       "    <tr>\n",
       "      <th>1</th>\n",
       "      <td>Table:\\n\\tyear ended december 31 2008 ( unaudi...</td>\n",
       "      <td>Program: subtract(9362.2, 9244.9), divide(#0, ...</td>\n",
       "    </tr>\n",
       "    <tr>\n",
       "      <th>2</th>\n",
       "      <td>Table:\\n\\t2002\\t2001\\t2000\\nnet sales\\t$ 5742\\...</td>\n",
       "      <td>Program: subtract(5363, 7983), divide(#0, 7983)</td>\n",
       "    </tr>\n",
       "  </tbody>\n",
       "</table>\n",
       "</div>"
      ],
      "text/plain": [
       "                                               input  \\\n",
       "0  Table:\\n2008\\tyear ended june 30 2009 2008\\tye...   \n",
       "1  Table:\\n\\tyear ended december 31 2008 ( unaudi...   \n",
       "2  Table:\\n\\t2002\\t2001\\t2000\\nnet sales\\t$ 5742\\...   \n",
       "\n",
       "                                              output  \n",
       "0  Program: subtract(206588, 181001), divide(#0, ...  \n",
       "1  Program: subtract(9362.2, 9244.9), divide(#0, ...  \n",
       "2    Program: subtract(5363, 7983), divide(#0, 7983)  "
      ]
     },
     "execution_count": 5,
     "metadata": {},
     "output_type": "execute_result"
    }
   ],
   "source": [
    "import os\n",
    "import zipfile\n",
    "import requests\n",
    "import json\n",
    "\n",
    "# Step 1: Download the data.zip\n",
    "url = \"https://github.com/czyssrs/ConvFinQA/raw/main/data.zip\"\n",
    "zip_path = \"data.zip\"\n",
    "\n",
    "if not os.path.exists(zip_path):\n",
    "    print(\"Downloading data.zip...\")\n",
    "    response = requests.get(url)\n",
    "    with open(zip_path, \"wb\") as f:\n",
    "        f.write(response.content)\n",
    "    print(\"Download complete.\")\n",
    "\n",
    "# Step 2: Unzip the file\n",
    "data_dir = \"data\"\n",
    "if not os.path.exists(data_dir):\n",
    "    print(\"Unzipping data.zip...\")\n",
    "    with zipfile.ZipFile(zip_path, 'r') as zip_ref:\n",
    "        zip_ref.extractall(data_dir)\n",
    "    print(\"Extraction complete.\")\n",
    "\n",
    "# Step 3: Load train.json\n",
    "train_json_path = os.path.join(data_dir,\"data\", \"train.json\")\n",
    "with open(train_json_path, \"r\", encoding=\"utf-8\") as f:\n",
    "    raw_data = json.load(f)\n",
    "\n",
    "print(f\"Loaded {len(raw_data)} examples.\")\n",
    "\n",
    "# Step 4: Convert into DataFrame with 'input' and 'output'\n",
    "def format_all_qa_examples(example):\n",
    "    table = example['table']\n",
    "    table_str = \"\\n\".join([\"\\t\".join(row) for row in table])\n",
    "    formatted = []\n",
    "\n",
    "    for key, qa_entry in example.items():\n",
    "        if key.startswith(\"qa\"):\n",
    "            question = qa_entry.get(\"question\", \"\")\n",
    "            program = qa_entry.get(\"program\", \"\")\n",
    "            formatted.append({\n",
    "                \"input\": f\"Table:\\n{table_str}\\nQuestion: {question}\",\n",
    "                \"output\": f\"Program: {program}\"\n",
    "            })\n",
    "\n",
    "    return formatted\n",
    "\n",
    "# Collect all formatted examples\n",
    "formatted_data = []\n",
    "for example in raw_data:\n",
    "    formatted_data.extend(format_all_qa_examples(example))\n",
    "\n",
    "df = pd.DataFrame(formatted_data)\n",
    "\n",
    "df.head(3)  # Preview first few rows\n"
   ]
  },
  {
   "cell_type": "markdown",
   "id": "3faf77f3-8e08-486d-a899-7dd93733d2f8",
   "metadata": {},
   "source": [
    "# 2. Load LLaMA-2 and Apply QLoRA"
   ]
  },
  {
   "cell_type": "markdown",
   "id": "fde9427f-6a2c-4981-8dd6-413d3d4989ac",
   "metadata": {},
   "source": [
    "# 3. Tokenize and Prepare the Data"
   ]
  },
  {
   "cell_type": "markdown",
   "id": "3b571be5-9540-4d1f-8ab4-c7041d148b6d",
   "metadata": {},
   "source": [
    "# 4. Training Arguments & Trainer Setup"
   ]
  },
  {
   "cell_type": "markdown",
   "id": "874d3221-7f66-4e56-b155-9238021780e2",
   "metadata": {},
   "source": [
    "# 5. Final Output"
   ]
  },
  {
   "cell_type": "code",
   "execution_count": null,
   "id": "a7c3dd8c-19bc-4a8e-9ac9-650b15d9ff55",
   "metadata": {},
   "outputs": [],
   "source": []
  }
 ],
 "metadata": {
  "kernelspec": {
   "display_name": "Python (llama-lora)",
   "language": "python",
   "name": "llama-lora"
  },
  "language_info": {
   "codemirror_mode": {
    "name": "ipython",
    "version": 3
   },
   "file_extension": ".py",
   "mimetype": "text/x-python",
   "name": "python",
   "nbconvert_exporter": "python",
   "pygments_lexer": "ipython3",
   "version": "3.12.9"
  }
 },
 "nbformat": 4,
 "nbformat_minor": 5
}
